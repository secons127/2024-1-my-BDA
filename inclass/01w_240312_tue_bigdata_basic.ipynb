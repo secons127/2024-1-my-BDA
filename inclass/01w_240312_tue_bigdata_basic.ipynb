{
  "nbformat": 4,
  "nbformat_minor": 0,
  "metadata": {
    "colab": {
      "provenance": [],
      "authorship_tag": "ABX9TyPPD1uezkzu9j/htORSXxUA",
      "include_colab_link": true
    },
    "kernelspec": {
      "name": "python3",
      "display_name": "Python 3"
    },
    "language_info": {
      "name": "python"
    }
  },
  "cells": [
    {
      "cell_type": "markdown",
      "metadata": {
        "id": "view-in-github",
        "colab_type": "text"
      },
      "source": [
        "<a href=\"https://colab.research.google.com/github/secons127/2024-1-my-BDA/blob/main/inclass/01w_240312_tue_bigdata_basic.ipynb\" target=\"_parent\"><img src=\"https://colab.research.google.com/assets/colab-badge.svg\" alt=\"Open In Colab\"/></a>"
      ]
    },
    {
      "cell_type": "markdown",
      "source": [
        "#**빅데이터분석프로그래밍**"
      ],
      "metadata": {
        "id": "iL5SIsriLHHC"
      }
    },
    {
      "cell_type": "markdown",
      "source": [
        "## 01주 2024-0312-화\n"
      ],
      "metadata": {
        "id": "1KJq1vD_LJyH"
      }
    },
    {
      "cell_type": "markdown",
      "source": [
        "###*파이썬 설치 확인*\n"
      ],
      "metadata": {
        "id": "z4NfwdZULMGh"
      }
    },
    {
      "cell_type": "code",
      "source": [
        "import sys\n",
        "sys.version"
      ],
      "metadata": {
        "colab": {
          "base_uri": "https://localhost:8080/",
          "height": 35
        },
        "id": "bgwgIC5BLSNF",
        "outputId": "ec3cd0a6-eeae-4920-e3ad-5f822c19f234"
      },
      "execution_count": 3,
      "outputs": [
        {
          "output_type": "execute_result",
          "data": {
            "text/plain": [
              "'3.10.12 (main, Nov 20 2023, 15:14:05) [GCC 11.4.0]'"
            ],
            "application/vnd.google.colaboratory.intrinsic+json": {
              "type": "string"
            }
          },
          "metadata": {},
          "execution_count": 3
        }
      ]
    },
    {
      "cell_type": "code",
      "source": [
        "import numpy as np\n",
        "import pandas as pd\n",
        "\n",
        "print(np.__version__)\n",
        "print(pd.__version__)"
      ],
      "metadata": {
        "colab": {
          "base_uri": "https://localhost:8080/"
        },
        "id": "6y7LG7GILXP0",
        "outputId": "cfb8b833-3bc9-4beb-e054-060f8fe54c72"
      },
      "execution_count": 2,
      "outputs": [
        {
          "output_type": "stream",
          "name": "stdout",
          "text": [
            "1.25.2\n",
            "1.5.3\n"
          ]
        }
      ]
    },
    {
      "cell_type": "code",
      "source": [],
      "metadata": {
        "id": "A3mMQDDTLkmK"
      },
      "execution_count": null,
      "outputs": []
    }
  ]
}